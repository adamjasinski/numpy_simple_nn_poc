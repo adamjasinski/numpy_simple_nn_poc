{
 "cells": [
  {
   "cell_type": "markdown",
   "metadata": {},
   "source": [
    "**Exercise 0: Import numpy**"
   ]
  },
  {
   "cell_type": "code",
   "execution_count": 1,
   "metadata": {},
   "outputs": [],
   "source": [
    "import numpy as np"
   ]
  },
  {
   "cell_type": "markdown",
   "metadata": {},
   "source": [
    "**Exercise 1: Fill the function according to the docstring**\n",
    "\n",
    "*Tip: The formula for the sigmoid function is:* $\\frac{1}{1+e^{-x}}$"
   ]
  },
  {
   "cell_type": "code",
   "execution_count": 2,
   "metadata": {},
   "outputs": [],
   "source": [
    "def sigmoid(x):\n",
    "    \"\"\"Compute the sigmoid activation function.\n",
    "\n",
    "    The sigmoid activation function is commonly used in machine learning and neural networks\n",
    "    to map real-valued numbers to values between 0 and 1. \n",
    "\n",
    "    Parameters:\n",
    "    - x (float, array-like): The input value(s) to apply the sigmoid function to.\n",
    "\n",
    "    Returns:\n",
    "    - value (np.ndarray): It returns the sigmoid of the input 'x'.\n",
    "\n",
    "    Example usage:\n",
    "    >>> sigmoid(0.5)\n",
    "    0.6224593312018546\n",
    "\n",
    "    >>> sigmoid(np.array([-1, 0, 1]), derivative=True)\n",
    "    [0.19661193 0.25       0.19661193]\n",
    "\n",
    "    \"\"\"\n",
    "    value = None # your code here\n",
    "    value = 1 / (1 + np.exp(-x))\n",
    "    return value"
   ]
  },
  {
   "cell_type": "code",
   "execution_count": 3,
   "metadata": {},
   "outputs": [
    {
     "name": "stdout",
     "output_type": "stream",
     "text": [
      "Test 1:\n",
      " 0.6224593312018546\n",
      "Test 2:\n",
      " [0.26894142 0.5        0.73105858]\n"
     ]
    }
   ],
   "source": [
    "# Tests\n",
    "# Test 1: sigmoid(0.5) should be 0.6224593312018546\n",
    "print(\"Test 1:\\n\", sigmoid(0.5))\n",
    "\n",
    "# Test 2: sigmoid([-1, 0, 1], derivative=True) should be [0.26894142, 0.5, 0.73105858]\n",
    "print(\"Test 2:\\n\", sigmoid(np.array([-1, 0, 1])))"
   ]
  },
  {
   "cell_type": "markdown",
   "metadata": {},
   "source": [
    "**Exercise 2: Fill the function according to the docstring**\n",
    "\n",
    "*Tip: The formula for the softmax function improved for stability is:* $\\frac{e^{x_i-x_{max}}}{\\sum_j e^{x_j - x_{max}}}$"
   ]
  },
  {
   "cell_type": "code",
   "execution_count": 4,
   "metadata": {},
   "outputs": [],
   "source": [
    "def softmax(x):\n",
    "    \"\"\"\n",
    "    Compute the softmax activation function.\n",
    "\n",
    "    The softmax activation function is commonly used in machine learning and neural networks\n",
    "    to convert a vector of real numbers into a probability distribution over multiple classes.\n",
    "    It exponentiates each element of the input vector and normalizes it to obtain the probabilities.\n",
    "\n",
    "    Parameters:\n",
    "    - x (numpy.ndarray): The input vector to apply the softmax function to.\n",
    "\n",
    "    Returns:\n",
    "    - value (np.ndarray): It returns the softmax of the input 'x', which is a probability distribution.\n",
    "\n",
    "    Example usage:\n",
    "    >>> softmax([2.0, 1.0, 0.1])\n",
    "    [0.65900114 0.24243297 0.09856589]\n",
    "\n",
    "    >>> softmax([4.0, 0.5, 0.1])\n",
    "    [0.22471864 0.18365923 0.08885066]\n",
    "    \"\"\"\n",
    "    # Numerically stable with large exponentials\n",
    "    # xmax = np.max(x)\n",
    "    # nom = np.exp(x-xmax)\n",
    "    # denom = np.sum(np.exp(x-xmax))\n",
    "    # value = nom / denom\n",
    "    # return value\n",
    "\n",
    "    exps = np.exp(x - np.max(x, axis=1, keepdims=True))\n",
    "    return exps / np.sum(exps, axis=1, keepdims=True)"
   ]
  },
  {
   "cell_type": "code",
   "execution_count": 5,
   "metadata": {},
   "outputs": [
    {
     "name": "stdout",
     "output_type": "stream",
     "text": [
      "Test 1:\n",
      " [[0.65900114 0.24243297 0.09856589]]\n",
      "Test 2:\n",
      " [[0.95198267 0.02874739 0.01926995]]\n"
     ]
    }
   ],
   "source": [
    "# Tests\n",
    "# Test 1: softmax(np.array([[2.0, 1.0, 0.1]])) should be [[0.65900114 0.24243297 0.09856589]]\n",
    "print(\"Test 1:\\n\", softmax(np.array([[2.0, 1.0, 0.1]])))\n",
    "\n",
    "# Test 2: softmax(np.array([[4.0, 0.5, 0.1]]) should be [[0.95198267 0.02874739 0.01926995]}\n",
    "print(\"Test 2:\\n\", softmax(np.array([[4.0, 0.5, 0.1]])))"
   ]
  },
  {
   "cell_type": "markdown",
   "metadata": {},
   "source": [
    "**Exercise 3: Fill the function according to the docstring**"
   ]
  },
  {
   "cell_type": "code",
   "execution_count": 6,
   "metadata": {},
   "outputs": [],
   "source": [
    "def one_hot_enc(y, num_labels=10):\n",
    "    \"\"\"\n",
    "    Convert class labels to one-hot encoded vectors.\n",
    "\n",
    "    This function takes an array of class labels and converts them into one-hot encoded\n",
    "    vectors. Each one-hot encoded vector represents the presence of a class label using a\n",
    "    1.0 in the corresponding position and 0.0 elsewhere.\n",
    "\n",
    "    Parameters:\n",
    "    - y (array-like): An array of class labels to be one-hot encoded.\n",
    "    - num_labels (int, optional): The total number of unique class labels. Defaults to 10.\n",
    "\n",
    "    Returns:\n",
    "    - one_hot (numpy.ndarray): A 2D numpy array where each column is a one-hot encoded\n",
    "      vector representing a class label.\n",
    "\n",
    "    Example usage:\n",
    "    >>> y = [0, 2, 1, 3, 0]\n",
    "    >>> one_hot_enc(y, num_labels=4)\n",
    "    array([[1., 0., 0., 0.],\n",
    "           [0., 0., 1., 0.],\n",
    "           [0., 1., 0., 0.],\n",
    "           [0., 0., 0., 1.],\n",
    "           [1., 0., 0., 0.]])\n",
    "    \"\"\"\n",
    "    #one_hot = np.zeros((len(y), num_labels))\n",
    "    #for i, num in enumerate(y):\n",
    "    #    one_hot[i, num] = 1\n",
    "    one_hot = np.eye(num_labels)[y]\n",
    "    return one_hot"
   ]
  },
  {
   "cell_type": "code",
   "execution_count": 7,
   "metadata": {},
   "outputs": [
    {
     "data": {
      "text/plain": [
       "array([[1., 0., 0., 0.],\n",
       "       [0., 0., 1., 0.],\n",
       "       [0., 1., 0., 0.],\n",
       "       [0., 0., 0., 1.],\n",
       "       [1., 0., 0., 0.]])"
      ]
     },
     "execution_count": 7,
     "metadata": {},
     "output_type": "execute_result"
    }
   ],
   "source": [
    "# Test: one_hot_enc(y, num_labels=4) with y = [0, 2, 1, 3, 0]\n",
    "# should be  array(\n",
    "#          [[1., 0., 0., 0.],\n",
    "#           [0., 0., 1., 0.],\n",
    "#           [0., 1., 0., 0.],\n",
    "#           [0., 0., 0., 1.],\n",
    "#           [1., 0., 0., 0.]])\n",
    "y = [0, 2, 1, 3, 0]\n",
    "one_hot_enc(y, num_labels=4)"
   ]
  },
  {
   "cell_type": "markdown",
   "metadata": {},
   "source": [
    "**Exercise 4: Fill the function according to the docstring**"
   ]
  },
  {
   "cell_type": "code",
   "execution_count": 8,
   "metadata": {},
   "outputs": [],
   "source": [
    "def initialize_wb(input_size, hidden1_size, hidden2_size, output_size):\n",
    "    \"\"\"\n",
    "    Initialize weights and biases for a neural network.\n",
    "\n",
    "    Parameters:\n",
    "    - input_size (int): Number of input features.\n",
    "    - hidden1_size (int): Number of neurons in the first hidden layer.\n",
    "    - hidden2_size (int): Number of neurons in the second hidden layer.\n",
    "    - output_size (int): Number of output neurons (number of classes).\n",
    "\n",
    "    Returns:\n",
    "    - W1, W2, W3 (np.ndarray): 2D arrays for the weights with random values from a standard normal\n",
    "        distribution\n",
    "    - b1, b2, b3: (np.ndarray): 2D arrays for the bias as zeros\n",
    "    \n",
    "    Example usage:\n",
    "    W1, W2, W3, b1, b2, b3 = initialize_wb(input_size, hidden1_size, hidden2_size, output_size)\n",
    "    \"\"\"\n",
    "    # your code here\n",
    "\n",
    "    # Initialize weights with random values from a standard normal distribution\n",
    "    W1 = np.random.normal(0, 1, size = (input_size, hidden1_size)) # size input x hidden1\n",
    "    W2 = np.random.normal(0, 1, size = (hidden1_size, hidden2_size)) # size hidden1 x hidden2\n",
    "    W3 = np.random.normal(0, 1, size = (hidden2_size, output_size)) # size hidden2 x output\n",
    "    \n",
    "    # Initialize biases as zeros\n",
    "    b1 = np.zeros((1, hidden1_size)) # size 1 x hidden1\n",
    "    b2 = np.zeros((1, hidden2_size)) # size 1 x hidden2\n",
    "    b3 = np.zeros((1, output_size)) # size 1 x output\n",
    "    return W1, W2, W3, b1, b2, b3\n",
    "\n"
   ]
  },
  {
   "cell_type": "markdown",
   "metadata": {},
   "source": [
    "**Exercise 5: Import the function data_loader from src.data and use it for loading 4 numpy arrays calles X_train, y_train, X_test and y_test**"
   ]
  },
  {
   "cell_type": "code",
   "execution_count": 9,
   "metadata": {},
   "outputs": [],
   "source": [
    "from src.data import data_loader\n",
    "X_train, y_train, X_test, y_test = data_loader()"
   ]
  },
  {
   "cell_type": "code",
   "execution_count": 11,
   "metadata": {},
   "outputs": [
    {
     "data": {
      "image/png": "[encoded data removed]",
      "text/plain": [
       "<Figure size 640x480 with 16 Axes>"
      ]
     },
     "metadata": {},
     "output_type": "display_data"
    }
   ],
   "source": [
    "import matplotlib.pyplot as plt\n",
    "fig, axs = plt.subplots(4,4)\n",
    "for ax in axs.flatten():\n",
    "    idx = np.random.randint(0, len(X_train))\n",
    "    ax.imshow(X_train[idx], cmap='gray')\n",
    "    ax.set_title(y_train[idx])\n",
    "    ax.set_xticks([])\n",
    "    ax.set_yticks([])\n",
    "plt.tight_layout(pad=0)"
   ]
  },
  {
   "cell_type": "markdown",
   "metadata": {},
   "source": [
    "**Exercise 6: What is the shape of each one of those arrays? Print them in screen with f-strings**"
   ]
  },
  {
   "cell_type": "code",
   "execution_count": 12,
   "metadata": {},
   "outputs": [
    {
     "name": "stdout",
     "output_type": "stream",
     "text": [
      "X_train: (60000, 28, 28); y_train: (60000,); X_test: (10000, 28, 28); y_test: (10000,)\n"
     ]
    }
   ],
   "source": [
    "print(f\"X_train: {X_train.shape}; y_train: {y_train.shape}; X_test: {X_test.shape}; y_test: {y_test.shape}\")"
   ]
  },
  {
   "cell_type": "markdown",
   "metadata": {},
   "source": [
    "**Exercise 7: Divide every single element in X_train and X_test by 255.0**\n",
    "\n",
    "*Tip: Make sure that the changes are saved*)"
   ]
  },
  {
   "cell_type": "code",
   "execution_count": 13,
   "metadata": {},
   "outputs": [],
   "source": [
    "X_train = X_train / 255.0\n",
    "X_test = X_test / 255.0"
   ]
  },
  {
   "cell_type": "markdown",
   "metadata": {},
   "source": [
    "**Exercise 8: Flatten the shape of X_train and X_test from 3D to 2D by keeping the first dimension unchanged**\n",
    "\n",
    "*Tip: Make sure that the changes are saved*)"
   ]
  },
  {
   "cell_type": "code",
   "execution_count": 14,
   "metadata": {},
   "outputs": [
    {
     "name": "stdout",
     "output_type": "stream",
     "text": [
      "(10000, 784)\n"
     ]
    }
   ],
   "source": [
    "# Flatten the images\n",
    "# your code here\n",
    "X_train = X_train.reshape(X_train.shape[0], -1)\n",
    "X_test = X_test.reshape(X_test.shape[0], -1)\n",
    "print(X_test.shape)"
   ]
  },
  {
   "cell_type": "markdown",
   "metadata": {},
   "source": [
    "**Exercise 9: Use the function one_hot_enc defined before to create a new variable called y_train_onehot**"
   ]
  },
  {
   "cell_type": "code",
   "execution_count": 15,
   "metadata": {},
   "outputs": [],
   "source": [
    "# One-hot encode labels\n",
    "num_classes = 10\n",
    "# your code here\n",
    "y_train_onehot = one_hot_enc(y_train, num_labels=num_classes)"
   ]
  },
  {
   "cell_type": "markdown",
   "metadata": {},
   "source": [
    "**We define now some constants**"
   ]
  },
  {
   "cell_type": "code",
   "execution_count": 16,
   "metadata": {},
   "outputs": [],
   "source": [
    "# Define MLP architecture and initialize weights and biases\n",
    "input_size = X_train.shape[1]\n",
    "hidden1_size = 128\n",
    "hidden2_size = 64\n",
    "output_size = num_classes\n"
   ]
  },
  {
   "cell_type": "markdown",
   "metadata": {},
   "source": [
    "**Exercise 10: Use the function initialize_wb defined before to create6 new variables called W1, W2, W3, b1, b2, b3**"
   ]
  },
  {
   "cell_type": "code",
   "execution_count": 17,
   "metadata": {},
   "outputs": [],
   "source": [
    "\n",
    "# Initialize weights with random values and biases as zeros\n",
    "# your code here\n",
    "W1, W2, W3, b1, b2, b3 = initialize_wb(input_size=input_size, hidden1_size=hidden1_size, hidden2_size=hidden2_size, output_size=output_size)"
   ]
  },
  {
   "cell_type": "markdown",
   "metadata": {},
   "source": [
    "**Exercise 11: Execute the next cell and try to understand what's going on under the hood**"
   ]
  },
  {
   "cell_type": "code",
   "execution_count": 19,
   "metadata": {},
   "outputs": [
    {
     "name": "stdout",
     "output_type": "stream",
     "text": [
      "Epoch  1/10, Accuracy training set: 0.9697, Accuracy test set: 0.9547\n",
      "Epoch  2/10, Accuracy training set: 0.9717, Accuracy test set: 0.9579\n",
      "Epoch  3/10, Accuracy training set: 0.9718, Accuracy test set: 0.9589\n",
      "Epoch  4/10, Accuracy training set: 0.9732, Accuracy test set: 0.9575\n",
      "Epoch  5/10, Accuracy training set: 0.9790, Accuracy test set: 0.9600\n",
      "Epoch  6/10, Accuracy training set: 0.9723, Accuracy test set: 0.9556\n",
      "Epoch  7/10, Accuracy training set: 0.9795, Accuracy test set: 0.9614\n",
      "Epoch  8/10, Accuracy training set: 0.9812, Accuracy test set: 0.9611\n",
      "Epoch  9/10, Accuracy training set: 0.9833, Accuracy test set: 0.9656\n",
      "Epoch 10/10, Accuracy training set: 0.9829, Accuracy test set: 0.9617\n"
     ]
    }
   ],
   "source": [
    "# Training parameters\n",
    "learning_rate = 0.1\n",
    "epochs = 10\n",
    "batch_size = 64\n",
    "\n",
    "# Training loop\n",
    "for epoch in range(epochs):\n",
    "    for i in range(0, len(X_train), batch_size):\n",
    "        x_batch = X_train[i:i + batch_size]\n",
    "        y_batch = y_train_onehot[i:i + batch_size]\n",
    "\n",
    "        # Forward pass\n",
    "        z1 = np.dot(x_batch, W1) + b1\n",
    "        a1 = sigmoid(z1)\n",
    "        z2 = np.dot(a1, W2) + b2\n",
    "        a2 = sigmoid(z2)\n",
    "        z3 = np.dot(a2, W3) + b3\n",
    "        a3 = softmax(z3)\n",
    "\n",
    "        # Backpropagation\n",
    "        delta = a3 - y_batch\n",
    "        dW3 = np.dot(a2.T, delta)\n",
    "        db3 = np.sum(delta, axis=0, keepdims=True)\n",
    "        delta = np.dot(delta, W3.T) * (a2 * (1 - a2))\n",
    "        dW2 = np.dot(a1.T, delta)\n",
    "        db2 = np.sum(delta, axis=0, keepdims=True)\n",
    "        delta = np.dot(delta, W2.T) * (a1 * (1 - a1))\n",
    "        dW1 = np.dot(x_batch.T, delta)\n",
    "        db1 = np.sum(delta, axis=0, keepdims=True)\n",
    "\n",
    "        # Update weights and biases\n",
    "        W1 -= learning_rate * dW1\n",
    "        b1 -= learning_rate * db1\n",
    "        W2 -= learning_rate * dW2\n",
    "        b2 -= learning_rate * db2\n",
    "        W3 -= learning_rate * dW3\n",
    "        b3 -= learning_rate * db3\n",
    "\n",
    "    # Calculate accuracy on the training set\n",
    "    z1 = np.dot(X_train, W1) + b1\n",
    "    a1 = sigmoid(z1)\n",
    "    z2 = np.dot(a1, W2) + b2\n",
    "    a2 = sigmoid(z2)\n",
    "    z3 = np.dot(a2, W3) + b3\n",
    "    a3 = softmax(z3)\n",
    "\n",
    "    predictions = np.argmax(a3, axis=1)\n",
    "    train_accuracy = np.mean(predictions == y_train)\n",
    "\n",
    "    # Calculate accuracy on the test set\n",
    "    z1 = np.dot(X_test, W1) + b1\n",
    "    a1 = sigmoid(z1)\n",
    "    z2 = np.dot(a1, W2) + b2\n",
    "    a2 = sigmoid(z2)\n",
    "    z3 = np.dot(a2, W3) + b3\n",
    "    a3 = softmax(z3)\n",
    "\n",
    "    predictions = np.argmax(a3, axis=1)\n",
    "    test_accuracy = np.mean(predictions == y_test)\n",
    "    print(f\"Epoch {epoch + 1: >2}/{epochs}, Accuracy training set: {train_accuracy:.4f}, Accuracy test set: {test_accuracy:.4f}\")\n"
   ]
  }
 ],
 "metadata": {
  "kernelspec": {
   "display_name": "Python 3",
   "language": "python",
   "name": "python3"
  },
  "language_info": {
   "codemirror_mode": {
    "name": "ipython",
    "version": 3
   },
   "file_extension": ".py",
   "mimetype": "text/x-python",
   "name": "python",
   "nbconvert_exporter": "python",
   "pygments_lexer": "ipython3",
   "version": "3.11.7"
  },
  "orig_nbformat": 4
 },
 "nbformat": 4,
 "nbformat_minor": 2
}
